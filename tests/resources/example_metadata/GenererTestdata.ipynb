{
 "cells": [
  {
   "cell_type": "code",
   "execution_count": null,
   "id": "assisted-words",
   "metadata": {},
   "outputs": [],
   "source": [
    "import requests\n",
    "import pandas as pd\n",
    "from datetime import datetime\n",
    "# import dapla as dp\n",
    "import random"
   ]
  },
  {
   "cell_type": "code",
   "execution_count": null,
   "id": "conditional-simpson",
   "metadata": {},
   "outputs": [],
   "source": [
    "# parametre til KLASS-kall\n",
    "# 131 kommuner\n",
    "klasstabell = 131\n",
    "klassdato = datetime.now().strftime(\"%Y-%m-%d\")"
   ]
  },
  {
   "cell_type": "code",
   "execution_count": null,
   "id": "false-origin",
   "metadata": {},
   "outputs": [],
   "source": [
    "# KLASS-kall:returnerer gyldige koder for enklassifikasjon på et gitt tidspunkt\n",
    "response_json = requests.get(f'https://data.ssb.no/api/klass/v1/classifications/{klasstabell}/codesAt.json?date={klassdato}').json()"
   ]
  },
  {
   "cell_type": "code",
   "execution_count": null,
   "id": "appointed-infrastructure",
   "metadata": {},
   "outputs": [],
   "source": [
    "# Lager et Pandas-datasett for å se på kodene\n",
    "pd_response_json = pd.DataFrame(response_json['codes'])\n",
    "pd_response_json"
   ]
  },
  {
   "cell_type": "code",
   "execution_count": null,
   "id": "better-fountain",
   "metadata": {},
   "outputs": [],
   "source": [
    "# Lager en liste av kodene i klassifikasjonen, til bruk i random genereringen av testdata\n",
    "kommunekoder_liste = pd_response_json['code'].tolist()\n",
    "kommunekoder_liste"
   ]
  },
  {
   "cell_type": "code",
   "execution_count": null,
   "id": "spatial-small",
   "metadata": {},
   "outputs": [],
   "source": [
    "random.seed(20)\n",
    "\n",
    "r = random.sample(range(10000000000), 10)\n",
    "fnr = [str(x) for x in r]\n",
    "land = ['000', '346', '106']\n",
    "# kommnr = ['0301', '1103', '4601', '5401', '5001']\n",
    "kommnr = kommunekoder_liste\n",
    "testdata = [\n",
    "            {\"personidentifikator\": random.choice(fnr),\n",
    "             \"foedland\": random.choice(land),\n",
    "             \"kjoenn\": random.randrange(1, 3),\n",
    "             \"kommnr\": random.choice(kommnr),\n",
    "             \"mor_personidentifikator\": random.choice(fnr)\n",
    "             }\n",
    "            for _ in range(10)\n",
    "            ]\n",
    "print(testdata)"
   ]
  },
  {
   "cell_type": "code",
   "execution_count": null,
   "id": "underlying-survey",
   "metadata": {},
   "outputs": [],
   "source": [
    "random.seed(20)\n",
    "aar = ['1980', '1960', '2001']\n",
    "husholdningsnummer = ['12340301', '23451103', '56784601', '56785401', '88885001']\n",
    "testdata1 = [\n",
    "            {\"personidentifikator\": random.choice(range(10000000000,99999999999)),# 11 siffer\n",
    "             \"aargang\": random.choice(aar),\n",
    "             \"kjoenn\": random.randrange(1, 3),\n",
    "             \"husnr\": random.choice(husholdningsnummer),\n",
    "             #\"Yrkesinntekter\": (random.sample(range(1000000), 1)),\n",
    "             \"Yrkesinntekter\": (random.choice(range(1000000))),\n",
    "             \"kommnr\": random.choice(kommnr),\n",
    "             }\n",
    "            for _ in range(10)\n",
    "            ]\n",
    "print(testdata1)"
   ]
  },
  {
   "cell_type": "code",
   "execution_count": 45,
   "id": "bronze-effort",
   "metadata": {},
   "outputs": [
    {
     "name": "stdout",
     "output_type": "stream",
     "text": [
      "+-------------------+-------+------+--------+--------------+------+\n",
      "|personidentifikator|aargang|kjoenn|   husnr|Yrkesinntekter|kommnr|\n",
      "+-------------------+-------+------+--------+--------------+------+\n",
      "|        31065166356|   1960|     1|56784601|       3841692|  1127|\n",
      "|        67602052948|   1980|     1|23451103|       6354266|  4615|\n",
      "|        91389798231|   1960|     2|23451103|       4352358|  3427|\n",
      "|        55875905705|   1960|     2|12340301|       9688074|  4624|\n",
      "|        20329108572|   1980|     1|12340301|       4385913|  1578|\n",
      "|        36129513570|   1960|     2|56784601|       5308101|  1865|\n",
      "|        25564777016|   1980|     2|23451103|       4685377|  5033|\n",
      "|        15315319983|   1980|     2|56784601|       3296336|  5444|\n",
      "|        55727973733|   2001|     2|23451103|       5593645|  5021|\n",
      "|        69411445663|   1980|     1|56785401|       3030624|  5442|\n",
      "+-------------------+-------+------+--------+--------------+------+\n",
      "\n"
     ]
    }
   ],
   "source": [
    "df = pd.DataFrame(testdata1)\n",
    "df_spark = spark.createDataFrame(df)\n",
    "df_spark.show()"
   ]
  },
  {
   "cell_type": "code",
   "execution_count": null,
   "id": "juvenile-dependence",
   "metadata": {},
   "outputs": [],
   "source": [
    "# Lager et Pandas-datasett for å se på kodene\n",
    "pd_testdatasett = pd.DataFrame(testdata)\n",
    "pd_testdatasett"
   ]
  },
  {
   "cell_type": "code",
   "execution_count": null,
   "id": "northern-drilling",
   "metadata": {},
   "outputs": [],
   "source": [
    "%document -f pd_testdatasett.json df_spark"
   ]
  },
  {
   "cell_type": "code",
   "execution_count": null,
   "id": "exclusive-turning",
   "metadata": {},
   "outputs": [],
   "source": [
    "%%output\n",
    "/felles/metadata_test/testdata/generert_testdata_sample"
   ]
  },
  {
   "cell_type": "code",
   "execution_count": 46,
   "id": "hundred-harvard",
   "metadata": {},
   "outputs": [
    {
     "data": {
      "text/html": [
       "<b>Warning:</b> The path /felles/metadata_test/testdata/generert_testdata_sample has not been declared. To suppress this warning add the following to a cell in your notebook: <pre><code style='background: hsl(220, 80%, 90%)'>%%output\n",
       "/felles/metadata_test/testdata/generert_testdata_sample</code></pre>"
      ],
      "text/plain": [
       "<IPython.core.display.HTML object>"
      ]
     },
     "metadata": {},
     "output_type": "display_data"
    }
   ],
   "source": [
    "df_spark.write\\\n",
    "    .option(\"valuation\", \"INTERNAL\")\\\n",
    "    .option(\"state\", \"INPUT\")\\\n",
    "    .path('/felles/metadata_test/testdata/generert_testdata_sample')"
   ]
  },
  {
   "cell_type": "code",
   "execution_count": 47,
   "id": "searching-command",
   "metadata": {},
   "outputs": [
    {
     "name": "stdout",
     "output_type": "stream",
     "text": [
      "+----------------------------------------------------------------------------------------------+\n",
      "|path                                                                                          |\n",
      "+----------------------------------------------------------------------------------------------+\n",
      "|/felles/metadata_test/df_konto                                                                |\n",
      "|/felles/metadata_test/df_konto2                                                               |\n",
      "|/felles/metadata_test/df_lOTY                                                                 |\n",
      "|/felles/metadata_test/df_lOTY_samledeYtelserFraArbeidsgiverPerBehandlingsart                  |\n",
      "|/felles/metadata_test/df_pensjonsinntekt                                                      |\n",
      "|/felles/metadata_test/df_pensjonsinntekt2                                                     |\n",
      "|/felles/metadata_test/loennOgTilsvarendeYtelser                                               |\n",
      "|/felles/metadata_test/loennOgTilsvarendeYtelser_samledeYtelserFraArbeidsgiverPerBehandlingsart|\n",
      "|/felles/metadata_test/persvar_lty                                                             |\n",
      "|/felles/metadata_test/persvar_pensjonsinntekt3                                                |\n",
      "|/felles/metadata_test/testdata/generert_testdata_sample                                       |\n",
      "+----------------------------------------------------------------------------------------------+\n",
      "\n"
     ]
    }
   ],
   "source": [
    "ll =  spark.read.path('/felles/metadata_test/*')\n",
    "ll.show(100, False)"
   ]
  },
  {
   "cell_type": "code",
   "execution_count": null,
   "id": "auburn-round",
   "metadata": {},
   "outputs": [],
   "source": []
  }
 ],
 "metadata": {
  "kernelspec": {
   "display_name": "Pyspark (local)",
   "language": "python",
   "name": "pyspark_local"
  },
  "language_info": {
   "codemirror_mode": {
    "name": "ipython",
    "version": 3
   },
   "file_extension": ".py",
   "mimetype": "text/x-python",
   "name": "python",
   "nbconvert_exporter": "python",
   "pygments_lexer": "ipython3",
   "version": "3.8.8"
  }
 },
 "nbformat": 4,
 "nbformat_minor": 5
}
