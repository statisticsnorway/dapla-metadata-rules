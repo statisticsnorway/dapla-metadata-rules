{
 "cells": [
  {
   "cell_type": "code",
   "execution_count": null,
   "id": "expected-monday",
   "metadata": {},
   "outputs": [],
   "source": [
    "import requests\n",
    "import pandas as pd\n",
    "from datetime import datetime\n",
    "import dapla as dp\n",
    "import random"
   ]
  },
  {
   "cell_type": "code",
   "execution_count": null,
   "id": "smoking-female",
   "metadata": {},
   "outputs": [],
   "source": [
    "# parametre til KLASS-kall\n",
    "# 131 kommuner\n",
    "klasstabell = 131\n",
    "klassdato = datetime.now().strftime(\"%Y-%m-%d\")"
   ]
  },
  {
   "cell_type": "code",
   "execution_count": null,
   "id": "bulgarian-attraction",
   "metadata": {},
   "outputs": [],
   "source": [
    "# KLASS-kall:returnerer gyldige koder for enklassifikasjon på et gitt tidspunkt\n",
    "response_json = requests.get(f'https://data.ssb.no/api/klass/v1/classifications/{klasstabell}/codesAt.json?date={klassdato}').json()"
   ]
  },
  {
   "cell_type": "code",
   "execution_count": null,
   "id": "promotional-rings",
   "metadata": {},
   "outputs": [],
   "source": [
    "# Lager et Pandas-datasett for å se på kodene\n",
    "pd_response_json = pd.DataFrame(response_json['codes'])\n",
    "pd_response_json"
   ]
  },
  {
   "cell_type": "code",
   "execution_count": null,
   "id": "optical-conducting",
   "metadata": {},
   "outputs": [],
   "source": [
    "# Lager en liste av kodene i klassifikasjonen, til bruk i random genereringen av testdata\n",
    "kommunekoder_liste = pd_response_json['code'].tolist()\n",
    "kommunekoder_liste"
   ]
  },
  {
   "cell_type": "code",
   "execution_count": null,
   "id": "royal-theory",
   "metadata": {},
   "outputs": [],
   "source": [
    "random.seed(20)\n",
    "\n",
    "r = random.sample(range(10000000000), 10)\n",
    "fnr = [str(x) for x in r]\n",
    "land = ['000', '346', '106']\n",
    "# kommnr = ['0301', '1103', '4601', '5401', '5001']\n",
    "kommnr = kommunekoder_liste\n",
    "testdata = [\n",
    "            {\"personidentifikator\": random.choice(fnr),\n",
    "             \"foedland\": random.choice(land),\n",
    "             \"kjoenn\": random.randrange(1, 3),\n",
    "             \"kommnr\": random.choice(kommnr),\n",
    "             \"mor_personidentifikator\": random.choice(fnr)\n",
    "             }\n",
    "            for _ in range(10)\n",
    "            ]\n",
    "print(testdata)"
   ]
  },
  {
   "cell_type": "code",
   "execution_count": null,
   "id": "ultimate-dating",
   "metadata": {},
   "outputs": [],
   "source": [
    "random.seed(20)\n",
    "aar = ['1980', '1960', '2001']\n",
    "husholdningsnummer = ['12340301', '23451103', '56784601', '56785401', '88885001']\n",
    "testdata1 = [\n",
    "            {\"personidentifikator\": random.choice(range(10000000000,99999999999)),# 11 siffer\n",
    "             \"aargang\": random.choice(aar),\n",
    "             \"kjoenn\": random.randrange(1, 3),\n",
    "             \"husnr\": random.choice(husholdningsnummer),\n",
    "             #\"Yrkesinntekter\": (random.sample(range(1000000), 1)),\n",
    "             \"Yrkesinntekter\": (random.choice(range(1000000))),\n",
    "             \"kommnr\": random.choice(kommnr),\n",
    "             }\n",
    "            for _ in range(10)\n",
    "            ]\n",
    "print(testdata1)"
   ]
  },
  {
   "cell_type": "code",
   "execution_count": null,
   "id": "identified-listening",
   "metadata": {},
   "outputs": [],
   "source": [
    "df = pd.DataFrame(testdata1)\n",
    "# pyspark\n",
    "df_spark = spark.createDataFrame(df)\n",
    "df_spark.show()"
   ]
  },
  {
   "cell_type": "code",
   "execution_count": null,
   "id": "changing-weather",
   "metadata": {},
   "outputs": [],
   "source": [
    "# Lager et Pandas-datasett for å se på kodene\n",
    "pd_testdatasett = pd.DataFrame(testdata)\n",
    "pd_testdatasett"
   ]
  },
  {
   "cell_type": "code",
   "execution_count": null,
   "id": "naked-player",
   "metadata": {},
   "outputs": [],
   "source": [
    "%document -f pd_testdatasett.json df_spark"
   ]
  },
  {
   "cell_type": "code",
   "execution_count": null,
   "id": "higher-execution",
   "metadata": {},
   "outputs": [],
   "source": [
    "%%output\n",
    "/felles/metadata_test/testdata/generert_testdata_sample"
   ]
  },
  {
   "cell_type": "code",
   "execution_count": null,
   "id": "peripheral-assumption",
   "metadata": {},
   "outputs": [],
   "source": [
    "df_spark.write\\\n",
    "    .option(\"valuation\", \"INTERNAL\")\\\n",
    "    .option(\"state\", \"INPUT\")\\\n",
    "    .path('/felles/metadata_test/testdata/generert_testdata_sample')"
   ]
  },
  {
   "cell_type": "code",
   "execution_count": null,
   "id": "pressing-paraguay",
   "metadata": {},
   "outputs": [],
   "source": [
    "ll =  spark.read.path('/felles/metadata_test/*')\n",
    "ll.show(100, False)"
   ]
  },
  {
   "cell_type": "code",
   "execution_count": null,
   "id": "hired-assistant",
   "metadata": {},
   "outputs": [],
   "source": [
    "help(dp.spark)"
   ]
  },
  {
   "cell_type": "code",
   "execution_count": null,
   "id": "exclusive-burden",
   "metadata": {},
   "outputs": [],
   "source": [
    "dp.details('/felles/metadata_test/testdata/generert_testdata_sample')"
   ]
  },
  {
   "cell_type": "code",
   "execution_count": null,
   "id": "micro-framework",
   "metadata": {},
   "outputs": [],
   "source": []
  }
 ],
 "metadata": {
  "kernelspec": {
   "display_name": "Pyspark (k8s cluster)",
   "language": "python",
   "name": "pyspark_k8s"
  },
  "language_info": {
   "codemirror_mode": {
    "name": "ipython",
    "version": 3
   },
   "file_extension": ".py",
   "mimetype": "text/x-python",
   "name": "python",
   "nbconvert_exporter": "python",
   "pygments_lexer": "ipython3",
   "version": "3.8.8"
  }
 },
 "nbformat": 4,
 "nbformat_minor": 5
}
