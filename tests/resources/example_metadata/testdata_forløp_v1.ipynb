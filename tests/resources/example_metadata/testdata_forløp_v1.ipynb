{
 "cells": [
  {
   "cell_type": "code",
   "execution_count": null,
   "id": "earlier-merit",
   "metadata": {},
   "outputs": [],
   "source": [
    "import random\n",
    "import requests\n",
    "import datetime\n",
    "import pandas as pd\n",
    "import dapla\n",
    "import pyspark\n",
    "random.seed(20)"
   ]
  },
  {
   "cell_type": "code",
   "execution_count": null,
   "id": "graduate-niger",
   "metadata": {},
   "outputs": [],
   "source": [
    "# henter klassifikasjoner fra KLASS\n",
    "pd.set_option('display.max_columns', None)\n",
    "# pd.options.display.max_colwidth = 150\n",
    "\n",
    "klasstabell = 131  # Kommuner\n",
    "klassdato = datetime.datetime.now().strftime(\"%Y-%m-%d\")\n",
    "response_json1 = requests.get(f'https://data.ssb.no/api/klass/v1/classifications/{klasstabell}/codesAt.json?date={klassdato}').json()\n",
    "pd_kommnr = pd.DataFrame(response_json1['codes'])\n",
    "klasstabell = 91  # landkoder\n",
    "response_json2 = requests.get(f'https://data.ssb.no/api/klass/v1/classifications/{klasstabell}/codesAt.json?date={klassdato}').json()\n",
    "pd_landkoder = pd.DataFrame(response_json2['codes'])\n",
    "\n",
    "# oversikt over kommunestørrelser 1986 -> \n",
    "data = pd.read_csv(\"https://data.ssb.no/api/v0/dataset/26975.csv?lang=no\", sep=';', decimal=',', encoding = \"ISO-8859-1\", )\n",
    "x = data['år'] == 2019\n",
    "print(x)\n",
    "data2 = data[data['år'] == 2019]\n",
    "print(type(data2))\n",
    "\n",
    "data2['region1'] = data2['region'].str.slice(2, 6)\n",
    "print(data2['region1'])\n",
    "data2['vekt'] = data2['07459: Befolkning, etter region, år og statistikkvariabel'].div(data2['07459: Befolkning, etter region, år og statistikkvariabel'].sum())\n",
    "print(data2['vekt'])\n",
    "data2"
   ]
  },
  {
   "cell_type": "code",
   "execution_count": null,
   "id": "continent-yacht",
   "metadata": {},
   "outputs": [],
   "source": [
    "# Testsett befolkningsdata med vekting\n",
    "r = random.sample(range(10000000000,99999999999), 100)\n",
    "# random.sample selects an item from the range. sample assures that there will be no repeated items.\n",
    "# \"price\": random.randrange(1,10000) / 100 returner integer som kan benyttes i en operasjon\n",
    "fnr = [str(x) for x in r]\n",
    "land = pd_landkoder['code']\n",
    "kommnr = pd_kommnr['code']\n",
    "testdata = [\n",
    "    {\n",
    "        \"pseudonym\": random.choice(fnr),\n",
    "        \"foedland\": random.choices(['000',random.choice(land)],weights=[85,15], k=1)[0], #Vektet -> 85% velges '000' (norske) for de resterende 15% velges tilfeldig kode fra land \n",
    "        \"kjoenn\": random.randrange(1,3),\n",
    "        \"kommnr\": random.choices(data2['region1'].values.tolist(),weights=data2['vekt'].values.tolist(),k=1)[0],\n",
    "        \"mor_fnr\": random.choice(fnr)\n",
    "    } \n",
    "    for _ in range(100)\n",
    "]"
   ]
  },
  {
   "cell_type": "code",
   "execution_count": null,
   "id": "micro-gnome",
   "metadata": {},
   "outputs": [],
   "source": [
    "testdata_pd = pd.DataFrame(testdata)"
   ]
  },
  {
   "cell_type": "code",
   "execution_count": null,
   "id": "remarkable-drain",
   "metadata": {},
   "outputs": [],
   "source": [
    "print(testdata_pd)"
   ]
  },
  {
   "cell_type": "code",
   "execution_count": null,
   "id": "stopped-payroll",
   "metadata": {},
   "outputs": [],
   "source": [
    "# typisk enkelt forløpsdatasett i microdata.no. Viser mottatt ytelse for eks.\n",
    "r = random.sample(range(10000000000,99999999999), 100)\n",
    "dager = random.sample(range(1000), 100)\n",
    "fnr = [str(x) for x in r]\n",
    "datoliste = pd.date_range(start=\"1992-01-01\", end=\"2020-12-31\" ,freq=\"D\")\n",
    "test = [\n",
    "    {\n",
    "        \"pseudonym\": random.choice(fnr),\n",
    "        \"kode\": 1,\n",
    "        \"start\": random.choices(datoliste)[0],\n",
    "        \"dager\": random.choices(dager)[0]\n",
    "    } \n",
    "    for _ in range(100) \n",
    "]\n",
    "\n",
    "# bruker funksjonalitet i pandas for å lage sluttdatoene:\n",
    "testdata_forlop_pd = pd.DataFrame.from_dict(test)\n",
    "testdata_forlop_pd[\"stop\"] = pd.to_datetime(testdata_forlop_pd[\"start\"]) + pd.to_timedelta(testdata_forlop_pd['dager'],'d')\n",
    "del testdata_forlop_pd['dager']"
   ]
  },
  {
   "cell_type": "code",
   "execution_count": null,
   "id": "mineral-prize",
   "metadata": {},
   "outputs": [],
   "source": [
    "pd.set_option('display.max_rows', 100)\n",
    "testdata_forlop_pd"
   ]
  },
  {
   "cell_type": "code",
   "execution_count": null,
   "id": "nearby-columbia",
   "metadata": {},
   "outputs": [],
   "source": [
    "# ser på count, har ikke null verdier så får ikke frem forskjellen\n",
    "print(f'Ant. unike:',testdata_forlop_pd['pseudonym'].nunique())\n",
    "print(f'Ant. (ikke tell \"null\"):',testdata_forlop_pd['pseudonym'].count())\n",
    "print(f'Ant. totalt:',testdata_forlop_pd['pseudonym'].size)"
   ]
  },
  {
   "cell_type": "code",
   "execution_count": null,
   "id": "different-macedonia",
   "metadata": {},
   "outputs": [],
   "source": [
    "# samlet\n",
    "testdata_forlop_pd.loc[testdata_forlop_pd['kode']==1,'pseudonym'].agg(['nunique','count','size'])"
   ]
  },
  {
   "cell_type": "code",
   "execution_count": null,
   "id": "behavioral-pricing",
   "metadata": {},
   "outputs": [],
   "source": [
    "# kolonne begrensning\n",
    "testdata_forlop_pd.query('kode == 1')['pseudonym'].agg(['nunique','count','size'])"
   ]
  },
  {
   "cell_type": "code",
   "execution_count": null,
   "id": "negative-professor",
   "metadata": {},
   "outputs": [],
   "source": [
    "testdata_forlop_pd.nunique()"
   ]
  },
  {
   "cell_type": "code",
   "execution_count": null,
   "id": "verbal-drinking",
   "metadata": {},
   "outputs": [],
   "source": [
    "pd.set_option('display.max_rows', None)\n",
    "testdata_forlop_pd.groupby('pseudonym').agg(['count', 'size', 'nunique']).stack()"
   ]
  },
  {
   "cell_type": "code",
   "execution_count": null,
   "id": "silver-table",
   "metadata": {},
   "outputs": [],
   "source": [
    "# litt dårlig måte, men kan se duplikater på pseudonym\n",
    "testdata_forlop_pd.value_counts()"
   ]
  },
  {
   "cell_type": "code",
   "execution_count": null,
   "id": "northern-little",
   "metadata": {},
   "outputs": [],
   "source": []
  }
 ],
 "metadata": {
  "kernelspec": {
   "display_name": "Python 3",
   "language": "python",
   "name": "python3"
  },
  "language_info": {
   "codemirror_mode": {
    "name": "ipython",
    "version": 3
   },
   "file_extension": ".py",
   "mimetype": "text/x-python",
   "name": "python",
   "nbconvert_exporter": "python",
   "pygments_lexer": "ipython3",
   "version": "3.8.8"
  }
 },
 "nbformat": 4,
 "nbformat_minor": 5
}
